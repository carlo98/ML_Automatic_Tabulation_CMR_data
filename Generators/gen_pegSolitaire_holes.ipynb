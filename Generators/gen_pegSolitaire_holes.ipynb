{
 "cells": [
  {
   "cell_type": "code",
   "execution_count": null,
   "metadata": {},
   "outputs": [],
   "source": [
    "import os\n",
    "import numpy as np"
   ]
  },
  {
   "cell_type": "code",
   "execution_count": null,
   "metadata": {},
   "outputs": [],
   "source": [
    "for k in range(50):\n",
    "    numStartField = np.random.randint(2, 5)\n",
    "    startField = []\n",
    "    for i in range(numStartField):\n",
    "        a = np.random.randint(1, 34)\n",
    "        while a in startField:\n",
    "            a = np.random.randint(1, 34)\n",
    "        startField.append(a)\n",
    "    with open(\"pegSolitaireAction_pegSolitaire\"+str(numStartField)+\"_\"+str(k)+\".param\", \"w\") as f:\n",
    "        f.write(\"letting numStartField=\"+str(numStartField)+\"\\n\")\n",
    "        f.write(\"letting startField=\"+str(startField)+\"\\n\")"
   ]
  }
 ],
 "metadata": {
  "kernelspec": {
   "display_name": "Python 3 (ipykernel)",
   "language": "python",
   "name": "python3"
  },
  "language_info": {
   "codemirror_mode": {
    "name": "ipython",
    "version": 3
   },
   "file_extension": ".py",
   "mimetype": "text/x-python",
   "name": "python",
   "nbconvert_exporter": "python",
   "pygments_lexer": "ipython3",
   "version": "3.8.10"
  }
 },
 "nbformat": 4,
 "nbformat_minor": 4
}
