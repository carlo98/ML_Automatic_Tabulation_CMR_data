{
 "cells": [
  {
   "cell_type": "code",
   "execution_count": null,
   "metadata": {},
   "outputs": [],
   "source": [
    "import os"
   ]
  },
  {
   "cell_type": "code",
   "execution_count": null,
   "metadata": {},
   "outputs": [],
   "source": [
    "for file in [x for x in os.listdir(\"point\") if \".param\" in x]:\n",
    "    with open(\"point/\"+file, \"r\") as f:\n",
    "        rows = f.readlines()\n",
    "    with open(\"point_new/\"+file, \"w\") as f:\n",
    "        f.write(\"letting numStartField be 1\\n\")\n",
    "        for row in rows:\n",
    "            if \"letting startField\" in row:\n",
    "                f.write(\"letting startField be [\" + row.split(\"=\")[-1].split(\"\\n\")[0] + \"]\\n\")\n",
    "            else:\n",
    "                f.write(row)"
   ]
  }
 ],
 "metadata": {
  "kernelspec": {
   "display_name": "Python 3 (ipykernel)",
   "language": "python",
   "name": "python3"
  },
  "language_info": {
   "codemirror_mode": {
    "name": "ipython",
    "version": 3
   },
   "file_extension": ".py",
   "mimetype": "text/x-python",
   "name": "python",
   "nbconvert_exporter": "python",
   "pygments_lexer": "ipython3",
   "version": "3.8.10"
  }
 },
 "nbformat": 4,
 "nbformat_minor": 4
}
