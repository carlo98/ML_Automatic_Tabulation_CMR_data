{
 "cells": [
  {
   "cell_type": "code",
   "execution_count": null,
   "metadata": {},
   "outputs": [],
   "source": [
    "import os\n",
    "import numpy as np"
   ]
  },
  {
   "cell_type": "code",
   "execution_count": null,
   "metadata": {},
   "outputs": [],
   "source": [
    "for i in range(4, 51):\n",
    "    grid = [[0 for x in range(5)] for y in range(5)]\n",
    "    ineqs = []\n",
    "    nums = np.random.randint(0, 7)  # amount of starting numbers\n",
    "    num_ineq = np.random.randint(5, 16)  # number of inequalities\n",
    "    \n",
    "    for j in range(num_ineq):  # creating inequalities\n",
    "        while True:\n",
    "            # index starts from 1 for eprime\n",
    "            new_ineq = [np.random.randint(1, 6), np.random.randint(1, 6), np.random.randint(1, 6), np.random.randint(1, 6)]\n",
    "            if new_ineq not in ineqs:  # avoid creating multiple copies of a constraint\n",
    "                break\n",
    "        ineqs.append(new_ineq)\n",
    "\n",
    "    for j in range(nums):\n",
    "        while True:  # Searching randomly for an unassigned position\n",
    "            row = np.random.randint(0, 5)\n",
    "            col = np.random.randint(0, 5)\n",
    "            if grid[row][col] == 0:\n",
    "                break\n",
    "        \n",
    "        flag = True\n",
    "        while flag:  # Avoid creating an unsat instance\n",
    "            grid[row][col] = np.random.randint(0, 6)\n",
    "            \n",
    "            flag = False\n",
    "            for ineq in ineqs:\n",
    "                if (grid[ineq[0]-1][ineq[1]-1]+grid[ineq[0]-1][ineq[1]-1])!=0 and grid[ineq[0]-1][ineq[1]-1] >= grid[ineq[2]-1][ineq[3]-1]:\n",
    "                    flag = True\n",
    "    with open(\"futoshiki_futoshiki\"+str(i)+\".param\", \"w\") as f:\n",
    "        f.write(\"language ESSENCE' 1.0\\n$ Futoshiki instance, by Andras Salamon\\n$ specify the numbers in the grid\\n\")\n",
    "        f.write(\"letting values be \"+str(grid)+\"\\n\")\n",
    "        f.write(\"$ specify last index in array lt; lt[0] is first entry\\n\")\n",
    "        f.write(\"letting lastdx be \"+str(num_ineq-1)+\"\\n\")  # Starts from 0\n",
    "        f.write(\"$ [i1,j1,i2,j2] requires that values[i1,j1]<values[i2,j2]\\n\")\n",
    "        f.write(\"letting lt be \"+str(ineqs)+\"\\n\")"
   ]
  }
 ],
 "metadata": {
  "kernelspec": {
   "display_name": "Python 3 (ipykernel)",
   "language": "python",
   "name": "python3"
  },
  "language_info": {
   "codemirror_mode": {
    "name": "ipython",
    "version": 3
   },
   "file_extension": ".py",
   "mimetype": "text/x-python",
   "name": "python",
   "nbconvert_exporter": "python",
   "pygments_lexer": "ipython3",
   "version": "3.8.10"
  }
 },
 "nbformat": 4,
 "nbformat_minor": 4
}
