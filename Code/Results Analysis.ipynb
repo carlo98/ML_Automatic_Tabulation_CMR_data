{
 "cells": [
  {
   "cell_type": "markdown",
   "id": "f95395f6",
   "metadata": {},
   "source": [
    "# Results analysis"
   ]
  },
  {
   "cell_type": "markdown",
   "id": "16594a4c",
   "metadata": {},
   "source": [
    "## Imports"
   ]
  },
  {
   "cell_type": "code",
   "execution_count": null,
   "id": "ae6351b8",
   "metadata": {},
   "outputs": [],
   "source": [
    "import pandas as pd\n",
    "import numpy as np\n",
    "import matplotlib.pyplot as plt"
   ]
  },
  {
   "cell_type": "markdown",
   "id": "45e7b4a0",
   "metadata": {},
   "source": [
    "## Loading csv"
   ]
  },
  {
   "cell_type": "code",
   "execution_count": null,
   "id": "7421859c",
   "metadata": {},
   "outputs": [],
   "source": [
    "df = pd.read_csv(\"../Dataset/results.csv\")"
   ]
  },
  {
   "cell_type": "markdown",
   "id": "8bff7a30",
   "metadata": {},
   "source": [
    "## Analysis"
   ]
  },
  {
   "cell_type": "code",
   "execution_count": null,
   "id": "0892c4c9",
   "metadata": {},
   "outputs": [],
   "source": [
    "df.head()"
   ]
  },
  {
   "cell_type": "code",
   "execution_count": null,
   "id": "8f056248",
   "metadata": {},
   "outputs": [],
   "source": [
    "policy_sets_timeout_tab = len(df.query(\"Policy == 'Sets' and SavileRowTimeOut==1\"))\n",
    "policy_sets_timeout_solving = len(df.query(\"Policy == 'Sets' and SolverTimeOut==1\"))\n",
    "num_policy_sets = len(df.query(\"Policy == 'Sets'\"))\n",
    "print(\"Number of Policy=Sets timeout tabulation: \", policy_sets_timeout_tab)\n",
    "print(\"Percentage of Policy=Sets timeout tabulation: \", 100*policy_sets_timeout_solving/num_policy_sets, \"%\")\n",
    "print(\"Number of Policy=Sets timeout solver: \", policy_sets_timeout_solving)\n",
    "print(\"Percentage of Policy=Sets timeout solver: \", 100*policy_sets_timeout_solving/num_policy_sets, \"%\")\n",
    "print()\n",
    "policy_tab2_timeout_tab = len(df.query(\"Policy == '2' and SavileRowTimeOut==1\"))\n",
    "policy_tab2_timeout_solving = len(df.query(\"Policy == '2' and SolverTimeOut==1\"))\n",
    "num_policy_tab2 = len(df.query(\"Policy == '2'\"))\n",
    "print(\"Number of Policy=2 timeout tabulation: \", policy_tab2_timeout_tab)\n",
    "print(\"Percentage of Policy=2 timeout tabulation: \", 100*policy_tab2_timeout_tab/num_policy_tab2, \"%\")\n",
    "print(\"Number of Policy=2 timeout solver: \", policy_tab2_timeout_solving)\n",
    "print(\"Percentage of Policy=2 timeout solver: \", 100*policy_tab2_timeout_solving/num_policy_tab2, \"%\")\n",
    "print()\n",
    "policy_base_timeout_savile = len(df.query(\"Policy == 'baseline' and SavileRowTimeOut==1\"))\n",
    "policy_base_timeout_solving = len(df.query(\"Policy == 'baseline' and SolverTimeOut==1\"))\n",
    "num_policy_base = len(df.query(\"Policy == 'baseline'\"))\n",
    "print(\"Number of Policy=baseline timeout savilerow: \", policy_base_timeout_savile)\n",
    "print(\"Percentage of Policy=baseline timeout savilerow: \", 100*policy_base_timeout_savile/num_policy_base, \"%\")\n",
    "print(\"Number of Policy=baseline timeout solver: \", policy_base_timeout_solving)\n",
    "print(\"Percentage of Policy=baseline timeout solver: \", 100*policy_base_timeout_solving/num_policy_base, \"%\")"
   ]
  },
  {
   "cell_type": "code",
   "execution_count": null,
   "id": "3d85633d",
   "metadata": {},
   "outputs": [],
   "source": [
    "sets_not_timeout_tab = df.query(\"Policy == 'Sets' and SavileRowTimeOut==0\")\n",
    "sets_not_timeout_solving = sets_not_timeout_tab.query(\"SolverTimeOut==0\")\n",
    "num_sets = len(sets_not_timeout_solving)\n",
    "\n",
    "tab2_not_timeout_tab = df.query(\"Policy == '2' and SavileRowTimeOut==0\")\n",
    "tab2_not_timeout_solving = tab2_not_timeout_tab.query(\"SolverTimeOut==0\")\n",
    "num_tab2 = len(tab2_not_timeout_solving)\n",
    "\n",
    "base_not_timeout_solving = df.query(\"Policy == 'baseline' and SolverTimeOut==0\")\n",
    "num_base = len(base_not_timeout_solving)"
   ]
  },
  {
   "cell_type": "code",
   "execution_count": null,
   "id": "cae84af5",
   "metadata": {},
   "outputs": [],
   "source": [
    "print(\"Mean tab time Policy=Sets: \", sets_not_timeout_tab['TabulationTime'].mean(), \"s\")\n",
    "print(\"Std tab time Policy=Sets: \", sets_not_timeout_tab['TabulationTime'].std(), \"s\")\n",
    "print()\n",
    "print(\"Mean tab time Policy=2: \", tab2_not_timeout_tab['TabulationTime'].mean(), \"s\")\n",
    "print(\"Std tab time Policy=2: \", tab2_not_timeout_tab['TabulationTime'].std(), \"s\")\n",
    "\n",
    "\n",
    "print()\n",
    "print(\"Mean solving time Policy=Sets: \", sets_not_timeout_solving['SolverTotalTime'].mean(), \"s\")\n",
    "print(\"Std solving time Policy=Sets: \", sets_not_timeout_solving['SolverTotalTime'].std(), \"s\")\n",
    "print()\n",
    "print(\"Mean solving time Policy=2: \", tab2_not_timeout_solving['SolverTotalTime'].mean(), \"s\")\n",
    "print(\"Std solving time Policy=2: \", tab2_not_timeout_solving['SolverTotalTime'].std(), \"s\")\n",
    "print()\n",
    "print(\"Mean solving time Policy=baseline: \", base_not_timeout_solving['SolverTotalTime'].mean(), \"s\")\n",
    "print(\"Std solving time Policy=baseline: \", base_not_timeout_solving['SolverTotalTime'].std(), \"s\")"
   ]
  },
  {
   "cell_type": "markdown",
   "id": "a4db8585",
   "metadata": {},
   "source": [
    "Solving time distribution"
   ]
  },
  {
   "cell_type": "code",
   "execution_count": null,
   "id": "014f6c1b",
   "metadata": {
    "scrolled": true
   },
   "outputs": [],
   "source": [
    "plt.figure(figsize=(18, 6));\n",
    "sets_not_timeout_solving.groupby(by=['Problem']).min()['SolverTotalTime'].plot.density();\n",
    "tab2_not_timeout_solving['SolverTotalTime'].plot.density();\n",
    "base_not_timeout_solving['SolverTotalTime'].plot.density();\n",
    "plt.legend(['Sets', 'Tab2', 'Baseline']);\n",
    "plt.xlabel(\"Time (s)\");\n",
    "plt.ylabel(\"# instances\");\n",
    "plt.title(\"Solve time KDE for sets, tab2 and baseline\");\n",
    "plt.xlim(left=0);\n",
    "plt.tight_layout();"
   ]
  },
  {
   "cell_type": "markdown",
   "id": "7f0d447f",
   "metadata": {},
   "source": [
    "Tabulation time distribution"
   ]
  },
  {
   "cell_type": "code",
   "execution_count": null,
   "id": "68392308",
   "metadata": {},
   "outputs": [],
   "source": [
    "plt.figure(figsize=(18, 6));\n",
    "sets_not_timeout_tab.groupby(by=['Problem']).min()['TabulationTime'].plot.density();\n",
    "tab2_not_timeout_tab['TabulationTime'].plot.density();\n",
    "plt.legend(['Sets', 'Tab2']);\n",
    "plt.xlabel(\"Time (s)\");\n",
    "plt.ylabel(\"# instances\");\n",
    "plt.title(\"Tabulation time KDE for sets and tab2\");\n",
    "plt.xlim(left=0);\n",
    "plt.tight_layout();"
   ]
  },
  {
   "cell_type": "code",
   "execution_count": null,
   "id": "9de5de8a",
   "metadata": {},
   "outputs": [],
   "source": [
    "group_prob = df.query(\"Policy!='baseline' and SavileRowTimeOut==0\").groupby(by=[\"Problem\", \"Policy\", \"Num_cons\"])"
   ]
  },
  {
   "cell_type": "markdown",
   "id": "d4461ce1",
   "metadata": {},
   "source": [
    "## Nodes \n",
    "No Sets better than tab2"
   ]
  },
  {
   "cell_type": "code",
   "execution_count": null,
   "id": "6509ff55",
   "metadata": {},
   "outputs": [],
   "source": [
    "def prRed(skk): print(\"\\033[91m{}\\033[00m\" .format(skk))\n",
    "def prGreen(skk): print(\"\\033[92m{}\\033[00m\" .format(skk))\n",
    "def prYellow(skk): print(\"\\033[93m{}\\033[00m\" .format(skk))\n",
    "def prLightPurple(skk): print(\"\\033[94m{}\\033[00m\" .format(skk))\n",
    "def prPurple(skk): print(\"\\033[95m{}\\033[00m\" .format(skk))\n",
    "def prCyan(skk): print(\"\\033[96m{}\\033[00m\" .format(skk))\n",
    "def prLightGray(skk): print(\"\\033[97m{}\\033[00m\" .format(skk))\n",
    "def prBlack(skk): print(\"\\033[98m{}\\033[00m\" .format(skk))"
   ]
  },
  {
   "cell_type": "code",
   "execution_count": null,
   "id": "8321fbe8",
   "metadata": {
    "scrolled": true
   },
   "outputs": [],
   "source": [
    "res = dict()\n",
    "for name, group in group_prob:\n",
    "    if not name[0] in res.keys():\n",
    "        res[name[0]] = dict()\n",
    "        res[name[0]][name[1]] = dict()\n",
    "    else:\n",
    "        if name[1] == 'Sets' and not name[1] in res[name[0]].keys():\n",
    "            res[name[0]][name[1]] = dict()\n",
    "\n",
    "    index_min = (group['SolverTotalTime']+group['SavileRowTotalTime']).argmin()\n",
    "    if group['SolverTimeOut'].values[0] == 1:\n",
    "        value = [100000, group['SolverNodes'].values[index_min]]\n",
    "    else:\n",
    "        value = [(group['SolverTotalTime'].values+group['SavileRowTotalTime'].values)[index_min], group['SolverNodes'].values[index_min]]\n",
    "    if name[1] == 'Sets':\n",
    "        res[name[0]][name[1]][name[2]] = value\n",
    "    else:\n",
    "        res[name[0]][name[1]] = value\n",
    "    \n",
    "for key in res.keys():\n",
    "    flag = False\n",
    "    num_cons = -1\n",
    "    time_sets = 100000\n",
    "    time_2 = 100000\n",
    "    nodes_sets = 100000\n",
    "    nodes_2 = 100000\n",
    "    if 'Sets' in res[key].keys():\n",
    "        num_cons = np.argmin([res[key]['Sets'][x][0] for x in res[key]['Sets'].keys()])\n",
    "        num_cons = list(res[key]['Sets'].keys())[num_cons]\n",
    "        time_sets = res[key]['Sets'][num_cons][0]\n",
    "        nodes_sets = res[key]['Sets'][num_cons][1]\n",
    "    if '2' in res[key].keys():\n",
    "        time_2 = res[key]['2'][0]\n",
    "        nodes_2 = res[key]['2'][1]\n",
    "        \n",
    "    if nodes_2 > nodes_sets and num_cons!=-1 and time_2<time_sets:   # Red nodes2 > nodessets /\\ time2 < timesets\n",
    "        flag = True\n",
    "        prRed(\"Key: \" + str(key) + \" num_cons: \" + str(num_cons))\n",
    "        prRed(\"Time tab2: \" + str(time_2) + \" time sets: \" + str(time_sets))\n",
    "        prRed(\"Nodes tab2: \" + str(nodes_2) + \" nodes sets: \" + str(nodes_sets))\n",
    "    elif nodes_2 > nodes_sets and num_cons!=-1 and time_2>time_sets: # Green nodes2 > nodessets /\\ time2 > timesets\n",
    "        flag = True\n",
    "        prGreen(\"Key: \" + str(key) + \" num_cons: \" + str(num_cons))\n",
    "        prGreen(\"Time tab2: \" + str(time_2) + \" time sets: \" + str(time_sets))\n",
    "        prGreen(\"Nodes tab2: \" + str(nodes_2) + \" nodes sets: \" + str(nodes_sets))\n",
    "    elif nodes_2 < nodes_sets and time_2>time_sets:                  # Yellow nodes2 < nodessets /\\ time2 > timesets\n",
    "        flag = True\n",
    "        prYellow(\"Key: \" + str(key) + \" num_cons: \" + str(num_cons))\n",
    "        prYellow(\"Time tab2: \" + str(time_2) + \" time sets: \" + str(time_sets))\n",
    "        prYellow(\"Nodes tab2: \" + str(nodes_2) + \" nodes sets: \" + str(nodes_sets))\n",
    "    elif nodes_2 == nodes_sets:                                      # Black equal # nodes\n",
    "        flag = True\n",
    "        print(\"Key: \" + str(key) + \" num_cons: \" + str(num_cons))\n",
    "        print(\"Time tab2: \" + str(time_2) + \" time sets: \" + str(time_sets))\n",
    "        print(\"Nodes tab2: \" + str(nodes_2) + \" nodes sets: \" + str(nodes_sets))\n",
    "    elif nodes_2 <nodes_sets and time_2<time_sets:                   # Cyan better tab2\n",
    "        flag = True\n",
    "        prCyan(\"Key: \" + str(key) + \" num_cons: \" + str(num_cons))\n",
    "        prCyan(\"Time tab2: \" + str(time_2) + \" time sets: \" + str(time_sets))\n",
    "        prCyan(\"Nodes tab2: \" + str(nodes_2) + \" nodes sets: \" + str(nodes_sets))\n",
    "    if flag:\n",
    "        print()"
   ]
  },
  {
   "cell_type": "markdown",
   "id": "85315a82",
   "metadata": {},
   "source": [
    "## Time \n",
    "Sets better than tab2"
   ]
  },
  {
   "cell_type": "markdown",
   "id": "e55078ea",
   "metadata": {},
   "source": [
    "## Filter num cons"
   ]
  },
  {
   "cell_type": "code",
   "execution_count": null,
   "id": "06168ae8",
   "metadata": {},
   "outputs": [],
   "source": [
    "for i in range(1, 4):\n",
    "    policy_sets_timeout_tab = len(df.query(\"Policy == 'Sets' and SavileRowTimeOut==1 and Num_cons==\"+str(i)))\n",
    "    policy_sets_timeout_solving = len(df.query(\"Policy == 'Sets' and SolverTimeOut==1 and Num_cons==\"+str(i)))\n",
    "    print(str(i)+\" number of Policy=Sets timeout tabulation: \", policy_sets_timeout_tab)\n",
    "    print(str(i)+\" percentage of Policy=Sets timeout tabulation: \", 100*policy_sets_timeout_solving/num_policy_sets, \"%\")\n",
    "    print(str(i)+\" number of Policy=Sets timeout solver: \", policy_sets_timeout_solving)\n",
    "    print(str(i)+\" percentage of Policy=Sets timeout solver: \", 100*policy_sets_timeout_solving/num_policy_sets, \"%\")\n",
    "    print()"
   ]
  },
  {
   "cell_type": "code",
   "execution_count": null,
   "id": "ddd61601",
   "metadata": {},
   "outputs": [],
   "source": [
    "for i in range(1, 4):\n",
    "    sets_not_timeout_tab = df.query(\"Policy == 'Sets' and SavileRowTimeOut==0 and Num_cons==\"+str(i))\n",
    "    sets_not_timeout_solving = sets_not_timeout_tab.query(\"SolverTimeOut==0 and Num_cons==\"+str(i))\n",
    "    print(str(i)+\" mean tab time Policy=Sets: \", sets_not_timeout_tab['TabulationTime'].mean(), \"s\")\n",
    "    print(str(i)+\" std tab time Policy=Sets: \", sets_not_timeout_tab['TabulationTime'].std(), \"s\")\n",
    "    print()\n",
    "    print(str(i)+\" mean solving time Policy=Sets: \", sets_not_timeout_solving['SolverTotalTime'].mean(), \"s\")\n",
    "    print(str(i)+\" std solving time Policy=Sets: \", sets_not_timeout_solving['SolverTotalTime'].std(), \"s\")\n",
    "    print()"
   ]
  },
  {
   "cell_type": "markdown",
   "id": "5fd86a1e",
   "metadata": {},
   "source": [
    "Solving Time"
   ]
  },
  {
   "cell_type": "code",
   "execution_count": null,
   "id": "d2a403c8",
   "metadata": {
    "scrolled": false
   },
   "outputs": [],
   "source": [
    "plt.figure(figsize=(18, 6));\n",
    "df.query(\"Policy == 'Sets' and SolverTimeOut==0 and Num_cons==1\")['SolverTotalTime'].plot.density();\n",
    "df.query(\"Policy == 'Sets' and SolverTimeOut==0 and Num_cons==2\")['SolverTotalTime'].plot.density();\n",
    "df.query(\"Policy == 'Sets' and SolverTimeOut==0 and Num_cons==3\")['SolverTotalTime'].plot.density();\n",
    "tab2_not_timeout_solving['SolverSolveTime'].plot.density();\n",
    "#base_not_timeout_solving['SolverSolveTime'].plot.density();\n",
    "plt.legend(['Sets1', 'Sets2', 'Sets3', 'Tab2', 'Baseline']);\n",
    "plt.xlabel(\"Time (s)\");\n",
    "plt.ylabel(\"# instances\");\n",
    "plt.title(\"Solve time KDE for each set, tab2 and baseline not timed out while solving\");\n",
    "plt.xlim(left=0);\n",
    "plt.tight_layout();\n",
    "plt.show()\n",
    "\n",
    "plt.figure(figsize=(18, 6));\n",
    "df.query(\"Policy == 'Sets' and SavileRowTimeOut==0 and Num_cons==1\")['SolverTotalTime'].plot.density();\n",
    "df.query(\"Policy == 'Sets' and SavileRowTimeOut==0 and Num_cons==2\")['SolverTotalTime'].plot.density();\n",
    "df.query(\"Policy == 'Sets' and SavileRowTimeOut==0 and Num_cons==3\")['SolverTotalTime'].plot.density();\n",
    "#tab2_not_timeout_tab['SolverSolveTime'].plot.density();\n",
    "#df.query(\"Policy == 'baseline'\")['SolverSolveTime'].plot.density();\n",
    "plt.legend(['Sets1', 'Sets2', 'Sets3', 'Tab2', 'Baseline']);\n",
    "plt.xlabel(\"Time (s)\");\n",
    "plt.ylabel(\"# instances\");\n",
    "plt.title(\"Solve time KDE for each set, tab2 and baseline not timed out while tabulation\");\n",
    "plt.xlim(left=0);\n",
    "plt.tight_layout();\n",
    "plt.show()"
   ]
  },
  {
   "cell_type": "markdown",
   "id": "0b6d5f53",
   "metadata": {},
   "source": [
    "Tabulation Time"
   ]
  },
  {
   "cell_type": "code",
   "execution_count": null,
   "id": "bd3fa213",
   "metadata": {},
   "outputs": [],
   "source": [
    "plt.figure(figsize=(18, 6));\n",
    "df.query(\"Policy == 'Sets' and SavileRowTimeOut==0 and Num_cons==1\")['TabulationTime'].plot.density();\n",
    "df.query(\"Policy == 'Sets' and SavileRowTimeOut==0 and Num_cons==2\")['TabulationTime'].plot.density();\n",
    "df.query(\"Policy == 'Sets' and SavileRowTimeOut==0 and Num_cons==3\")['TabulationTime'].plot.density();\n",
    "#tab2_not_timeout_tab['TabulationTime'].plot.density();\n",
    "plt.legend(['Sets1', 'Sets2', 'Sets3', 'Tab2']);\n",
    "plt.xlabel(\"Time (s)\");\n",
    "plt.ylabel(\"Num instances\");\n",
    "plt.title(\"Tabulation time KDE for each set and tab2\");\n",
    "plt.xlim(left=0);\n",
    "plt.tight_layout();"
   ]
  },
  {
   "cell_type": "code",
   "execution_count": null,
   "id": "8780e707",
   "metadata": {},
   "outputs": [],
   "source": [
    "plt.figure(figsize=(18, 6));\n",
    "df.query(\"Policy == 'Sets' and SolverTimeOut==0 and Num_cons==1\")['SolverNodes'].plot.density();\n",
    "df.query(\"Policy == 'Sets' and SolverTimeOut==0 and Num_cons==2\")['SolverNodes'].plot.density();\n",
    "df.query(\"Policy == 'Sets' and SolverTimeOut==0 and Num_cons==3\")['SolverNodes'].plot.density();\n",
    "#tab2_not_timeout_solving['SolverNodes'].plot.density();\n",
    "#base_not_timeout_solving['SolverNodes'].plot.density();\n",
    "plt.legend(['Sets1', 'Sets2', 'Sets3', 'Tab2', 'Baseline']);\n",
    "plt.xlabel(\"# Nodes\");\n",
    "plt.ylabel(\"# instances\");\n",
    "plt.title(\"Number of nodes KDE for each set, tab2 and baseline\");\n",
    "plt.xlim(left=0);\n",
    "plt.tight_layout();"
   ]
  },
  {
   "cell_type": "markdown",
   "id": "527f758c",
   "metadata": {},
   "source": [
    "## Num_cons & Threshold"
   ]
  },
  {
   "cell_type": "code",
   "execution_count": null,
   "id": "0d2d6172",
   "metadata": {},
   "outputs": [],
   "source": [
    "print(\"Number of out-of-time during tabulation in percentage:\")\n",
    "df.query(\"Policy == 'Sets' and SavileRowTimeOut==1\").groupby(by=[\"Num_cons\", \"thresh_overlap\"])['Policy'].count()/num_policy_sets*100"
   ]
  },
  {
   "cell_type": "code",
   "execution_count": null,
   "id": "44737dfc",
   "metadata": {},
   "outputs": [],
   "source": [
    "print(\"Number of out-of-time while solving in percentage:\")\n",
    "df.query(\"Policy == 'Sets' and SolverTimeOut==1\").groupby(by=[\"Num_cons\", \"thresh_overlap\"])['Policy'].count()/num_policy_sets*100"
   ]
  },
  {
   "cell_type": "code",
   "execution_count": null,
   "id": "82c856a5",
   "metadata": {},
   "outputs": [],
   "source": [
    "print(\"Number of out-of-time while solving or tabulating in percentage:\")\n",
    "df.query(\"Policy == 'Sets' and (SolverTimeOut==1 or SavileRowTimeOut==1)\").groupby(by=[\"Num_cons\", \"thresh_overlap\"])['Policy'].count()/num_policy_sets*100"
   ]
  },
  {
   "cell_type": "code",
   "execution_count": null,
   "id": "21ce6b26",
   "metadata": {},
   "outputs": [],
   "source": [
    "plt.figure(figsize=(18, 6));\n",
    "df.query(\"Policy == 'Sets' and SavileRowTimeOut==0\").groupby(by=[\"Num_cons\", \"thresh_overlap\"])[\"SolverNodes\"].plot.density(legend=True)\n",
    "plt.xlabel(\"# Nodes\");\n",
    "plt.ylabel(\"# instances\");\n",
    "plt.title(\"Number of nodes KDE for groupby num_cons & thresholds\");\n",
    "plt.xlim(left=0);\n",
    "plt.tight_layout();"
   ]
  },
  {
   "cell_type": "code",
   "execution_count": null,
   "id": "96774987",
   "metadata": {},
   "outputs": [],
   "source": [
    "plt.figure(figsize=(18, 6));\n",
    "df.query(\"Policy == 'Sets' and SolverTimeOut==0\").groupby(by=[\"Num_cons\", \"thresh_overlap\"])[\"SolverTotalTime\"].plot.density(legend=True)\n",
    "plt.xlabel(\"Time (s)\");\n",
    "plt.ylabel(\"# instances\");\n",
    "plt.title(\"Solve time KDE for groupby num_cons & thresholds\");\n",
    "plt.xlim(left=0);\n",
    "plt.tight_layout();"
   ]
  },
  {
   "cell_type": "code",
   "execution_count": null,
   "id": "cdb2debc",
   "metadata": {},
   "outputs": [],
   "source": [
    "for num_cons in range(1, 4):\n",
    "    plt.figure(figsize=(18, 6));\n",
    "    df.query(\"Policy == 'Sets' and SolverTimeOut==0 and Num_cons==\"+str(num_cons)).groupby(by=[\"thresh_overlap\"])[\"SolverTotalTime\"].plot.density(legend=True)\n",
    "    plt.xlabel(\"Time (s)\");\n",
    "    plt.ylabel(\"# instances\");\n",
    "    plt.title(\"Solve time KDE for num_cons= \" + str(num_cons) + \" and groupby thresholds\");\n",
    "    plt.xlim(left=0);\n",
    "    plt.tight_layout();\n",
    "    plt.show()"
   ]
  },
  {
   "cell_type": "code",
   "execution_count": null,
   "id": "6cc912e9",
   "metadata": {},
   "outputs": [],
   "source": [
    "max_x = int(df['SolverTotalTime'].max())\n",
    "x = np.linspace(0, max_x, max_x*10)\n",
    "y = {'2': [], 'Sets_1': [], 'Sets_2': [], 'Sets_3': [], 'baseline': []}\n",
    "\n",
    "tab_2 = df.query(\"Policy=='2' and SolverTimeOut==0\").groupby(\"Problem\")['SolverTotalTime'].min()+df.query(\"Policy=='2' and SolverTimeOut==0\").groupby(\"Problem\")['SavileRowTotalTime'].min()\n",
    "baseline = df.query(\"Policy=='baseline' and SolverTimeOut==0\").groupby(\"Problem\")['SolverTotalTime'].min()+df.query(\"Policy=='baseline' and SolverTimeOut==0\").groupby(\"Problem\")['SavileRowTotalTime'].min()\n",
    "sets_1 = df.query(\"Policy=='Sets' and Num_cons==1 and SolverTimeOut==0\").groupby(\"Problem\")['SolverTotalTime'].min()+df.query(\"Policy=='Sets' and Num_cons==1 and SolverTimeOut==0\").groupby(\"Problem\")['SavileRowTotalTime'].min()\n",
    "sets_2 = df.query(\"Policy=='Sets' and Num_cons==2 and SolverTimeOut==0\").groupby(\"Problem\")['SolverTotalTime'].min()+df.query(\"Policy=='Sets' and Num_cons==2 and SolverTimeOut==0\").groupby(\"Problem\")['SavileRowTotalTime'].min()\n",
    "sets_3 = df.query(\"Policy=='Sets' and Num_cons==3 and SolverTimeOut==0\").groupby(\"Problem\")['SolverTotalTime'].min()+df.query(\"Policy=='Sets' and Num_cons==3 and SolverTimeOut==0\").groupby(\"Problem\")['SavileRowTotalTime'].min()\n",
    "\n",
    "for i in x:\n",
    "    y['2'].append((tab_2<i).sum())\n",
    "    y['baseline'].append((baseline<i).sum())\n",
    "    y['Sets_1'].append((sets_1<i).sum())\n",
    "    y['Sets_2'].append((sets_2<i).sum())\n",
    "    y['Sets_3'].append((sets_3<i).sum())"
   ]
  },
  {
   "cell_type": "code",
   "execution_count": null,
   "id": "c1ccd95d",
   "metadata": {},
   "outputs": [],
   "source": [
    "plt.figure(figsize=(18, 6));\n",
    "plt.plot(x, y['2'])\n",
    "plt.plot(x, y['baseline'])\n",
    "plt.plot(x, y['Sets_1'])\n",
    "plt.plot(x, y['Sets_2'])\n",
    "plt.plot(x, y['Sets_3'])\n",
    "plt.legend(['Tab2', 'Baseline', 'Sets1', 'Sets2', 'Sets3'])\n",
    "plt.title(\"Number of instances solved over time.\");\n",
    "plt.xlabel(\"Time (s)\")\n",
    "plt.ylabel(\"# instances\")\n",
    "#plt.xlim(left=25)\n",
    "#plt.ylim(bottom=120)\n",
    "plt.tight_layout();\n",
    "plt.show()"
   ]
  },
  {
   "cell_type": "code",
   "execution_count": null,
   "id": "1cb1cb78",
   "metadata": {},
   "outputs": [],
   "source": [
    "max_x = int(df['SolverTotalTime'].max())\n",
    "x = np.linspace(0, max_x, max_x*10)\n",
    "\n",
    "for num_cons in [1, 2, 3]:\n",
    "    y = {'0.0': [], '0.25': [], '0.5': [], '0.75': [], '1.0': []}\n",
    "\n",
    "    ov_00 = df.query(\"Policy=='Sets' and SolverTimeOut==0 and thresh_overlap==0.0 and Num_cons==\"+str(num_cons)).groupby(\"Problem\")['SolverTotalTime'].min()+df.query(\"Policy=='Sets' and SolverTimeOut==0 and thresh_overlap==0.0 and Num_cons==\"+str(num_cons)).groupby(\"Problem\")['SavileRowTotalTime'].min()\n",
    "    ov_25 = df.query(\"Policy=='Sets' and SolverTimeOut==0 and thresh_overlap==0.25 and Num_cons==\"+str(num_cons)).groupby(\"Problem\")['SolverTotalTime'].min()+df.query(\"Policy=='Sets' and SolverTimeOut==0 and thresh_overlap==0.25 and Num_cons==\"+str(num_cons)).groupby(\"Problem\")['SavileRowTotalTime'].min()\n",
    "    ov_50 = df.query(\"Policy=='Sets' and SolverTimeOut==0 and thresh_overlap==0.50 and Num_cons==\"+str(num_cons)).groupby(\"Problem\")['SolverTotalTime'].min()+df.query(\"Policy=='Sets' and SolverTimeOut==0 and thresh_overlap==0.50 and Num_cons==\"+str(num_cons)).groupby(\"Problem\")['SavileRowTotalTime'].min()\n",
    "    ov_75 = df.query(\"Policy=='Sets' and SolverTimeOut==0 and thresh_overlap==0.75 and Num_cons==\"+str(num_cons)).groupby(\"Problem\")['SolverTotalTime'].min()+df.query(\"Policy=='Sets' and SolverTimeOut==0 and thresh_overlap==0.75 and Num_cons==\"+str(num_cons)).groupby(\"Problem\")['SavileRowTotalTime'].min()\n",
    "    ov_10 = df.query(\"Policy=='Sets' and SolverTimeOut==0 and thresh_overlap==1.0 and Num_cons==\"+str(num_cons)).groupby(\"Problem\")['SolverTotalTime'].min()+df.query(\"Policy=='Sets' and SolverTimeOut==0 and thresh_overlap==1.0 and Num_cons==\"+str(num_cons)).groupby(\"Problem\")['SavileRowTotalTime'].min()\n",
    "\n",
    "    for i in x:\n",
    "        y['0.0'].append((ov_00<i).sum())\n",
    "        y['0.25'].append((ov_25<i).sum())\n",
    "        y['0.5'].append((ov_50<i).sum())\n",
    "        y['0.75'].append((ov_75<i).sum())\n",
    "        y['1.0'].append((ov_10<i).sum())\n",
    "    plt.figure(figsize=(18, 6));\n",
    "    plt.plot(x, y['0.0'])\n",
    "    plt.plot(x, y['0.25'])\n",
    "    plt.plot(x, y['0.5'])\n",
    "    plt.plot(x, y['0.75'])\n",
    "    plt.plot(x, y['1.0'])\n",
    "    plt.legend(['0.00', '0.25', '0.50', '0.75', '1.00'])\n",
    "    plt.title(\"Number of instances solved over time with num_cons=\"+str(num_cons));\n",
    "    plt.xlabel(\"Time (s)\")\n",
    "    plt.ylabel(\"# instances\")\n",
    "    plt.tight_layout();\n",
    "    #plt.xlim(left=25)\n",
    "    #plt.ylim(bottom=120)\n",
    "    plt.show()"
   ]
  },
  {
   "cell_type": "code",
   "execution_count": null,
   "id": "12ae7eb5",
   "metadata": {},
   "outputs": [],
   "source": [
    "not_tabulated = set()\n",
    "print(\"Number of instances failed during tabulation with Sets\")\n",
    "for i in range(1, 4):\n",
    "    policy_not_tab = df.query(\"Policy=='Sets' and SavileRowTimeOut==1 and Num_cons==\"+str(i)).groupby(\"Problem\")[\"Problem\"].count()==5\n",
    "    not_tabulated.update(policy_not_tab[policy_not_tab].index)\n",
    "    sum_failed = policy_not_tab.sum()\n",
    "    print(\"\\tNum cons \", i, \": \", sum_failed)\n",
    "print(\"Number of unique instances not tabulated: \", len(not_tabulated))\n",
    "print(\"\\nTotal number of instances: \", len(df['Problem'].unique()))\n",
    "print()\n",
    "for i in range(1, 4):\n",
    "    solved_baseline = (df.query(\"Policy=='baseline' and SolverTimeOut==0\").groupby(\"Problem\")['SolverTotalTime'].min()+df.query(\"Policy=='baseline' and SolverTimeOut==0\").groupby(\"Problem\")['SavileRowTotalTime'].min()<3600).sum()\n",
    "    solved_sets = (df.query(\"Policy=='Sets' and SolverTimeOut==0 and Num_cons==\"+str(i)).groupby(\"Problem\")['SolverTotalTime'].min()+df.query(\"Policy=='Sets' and SolverTimeOut==0 and Num_cons==\"+str(i)).groupby(\"Problem\")['SavileRowTotalTime'].min()<3600).sum()\n",
    "    print(\"Differences in instances solved by baseline and Sets with num_cons=\"+str(i)+\": \", solved_baseline-solved_sets)"
   ]
  },
  {
   "cell_type": "code",
   "execution_count": null,
   "id": "ed582d81",
   "metadata": {},
   "outputs": [],
   "source": [
    "tmp = [x.split(\"_\")[0] for x in df['Problem'].unique()]\n",
    "problems_count = dict()\n",
    "for prob_key in np.unique(tmp):\n",
    "    cont = 0\n",
    "    for prob in tmp:\n",
    "        if prob == prob_key:\n",
    "            cont += 1\n",
    "    problems_count[prob_key] = cont\n",
    "print(problems_count)"
   ]
  },
  {
   "cell_type": "code",
   "execution_count": null,
   "id": "08ab36ca",
   "metadata": {},
   "outputs": [],
   "source": [
    "df['SolverTotalTime'].fillna(3600, inplace=True)"
   ]
  },
  {
   "cell_type": "code",
   "execution_count": null,
   "id": "2db079c4",
   "metadata": {},
   "outputs": [],
   "source": [
    "df.columns"
   ]
  },
  {
   "cell_type": "code",
   "execution_count": null,
   "id": "c653295e",
   "metadata": {
    "scrolled": false
   },
   "outputs": [],
   "source": [
    "plt.figure(figsize=(8, 8));\n",
    "ax = plt.gca()\n",
    "ax.scatter(df.query(\"Policy=='Sets'\").groupby(\"Problem\")['SolverTotalTime'].min()+df.query(\"Policy=='Sets'\").groupby(\"Problem\")['SavileRowTotalTime'].min(), df.query(\"Policy=='2'\").groupby(\"Problem\")['SolverTotalTime'].min()+df.query(\"Policy=='2'\").groupby(\"Problem\")['SavileRowTotalTime'].min(), c=\"black\", marker=\"x\");\n",
    "ax.set_yscale('symlog')\n",
    "ax.set_xscale('symlog')\n",
    "plt.plot([0, 3600+5],[0, 3600+5], c=\"black\");\n",
    "plt.title(\"Solver time for two sets toghether\");\n",
    "plt.xlabel(\"Constraints' sets (s)\");\n",
    "plt.ylabel(\"Tabulate 2 (s)\");\n",
    "plt.tight_layout();\n",
    "plt.xlim(left=0, right=3600);\n",
    "plt.ylim(bottom=0, top=3600);\n",
    "plt.show();"
   ]
  },
  {
   "cell_type": "code",
   "execution_count": null,
   "id": "9b80afb3",
   "metadata": {},
   "outputs": [],
   "source": [
    "plt.figure(figsize=(8, 8));\n",
    "ax = plt.gca()\n",
    "ax.scatter(df.query(\"Policy=='Sets'\").groupby(\"Problem\")['SolverTotalTime'].min()+df.query(\"Policy=='Sets'\").groupby(\"Problem\")['SavileRowTotalTime'].min(), df.query(\"Policy=='baseline'\").groupby(\"Problem\")['SolverTotalTime'].min()+df.query(\"Policy=='baseline'\").groupby(\"Problem\")['SavileRowTotalTime'].min(), c=\"black\", marker=\"x\");\n",
    "ax.set_yscale('symlog')\n",
    "ax.set_xscale('symlog')\n",
    "plt.plot([0, 3600+5], [0, 3600+5], c=\"black\");\n",
    "plt.title(\"Solver time for two sets toghether\");\n",
    "plt.xlabel(\"Constraints' sets (s)\");\n",
    "plt.ylabel(\"Baseline (s)\");\n",
    "plt.tight_layout();\n",
    "plt.xlim(left=0, right=3600);\n",
    "plt.ylim(bottom=0, top=3600);\n",
    "plt.show();"
   ]
  },
  {
   "cell_type": "code",
   "execution_count": null,
   "id": "0510d968",
   "metadata": {},
   "outputs": [],
   "source": [
    "plt.figure(figsize=(8, 8));\n",
    "ax = plt.gca()\n",
    "ax.scatter(df.query(\"Policy=='2'\").groupby(\"Problem\")['SolverTotalTime'].min()+df.query(\"Policy=='2'\").groupby(\"Problem\")['SavileRowTotalTime'].min(), df.query(\"Policy=='baseline'\").groupby(\"Problem\")['SolverTotalTime'].min()+df.query(\"Policy=='baseline'\").groupby(\"Problem\")['SavileRowTotalTime'].min(), c=\"black\", marker=\"x\");\n",
    "ax.set_yscale('symlog')\n",
    "ax.set_xscale('symlog')\n",
    "plt.plot([0, 3600+5], [0, 3600+5], c=\"black\");\n",
    "plt.title(\"Solver time for two sets toghether\");\n",
    "plt.xlabel(\"Tabulate 2 (s)\");\n",
    "plt.ylabel(\"Baseline (s)\");\n",
    "plt.tight_layout();\n",
    "plt.xlim(left=0, right=3600);\n",
    "plt.ylim(bottom=0, top=3600);\n",
    "plt.show();"
   ]
  },
  {
   "cell_type": "markdown",
   "id": "bd7c1265",
   "metadata": {},
   "source": [
    "## First set of problems"
   ]
  },
  {
   "cell_type": "code",
   "execution_count": null,
   "id": "183b1c0f",
   "metadata": {},
   "outputs": [],
   "source": [
    "journal_problems = [\"AccordionTable\", \"bibd\", \"blackHole\", \"bpmp\", \"carSequencing\", \"coprime\", \"handball7\", \"JPEncoding\", \"killerSudoku16\", \n",
    "                   \"knights\", \"knights2\", \"langford\", \"nlinkedopt\", \"nlinkedseq\", \"paqueens1\", \"sedfnofix\", \"sportsScheduling\", \"stilllife\"]"
   ]
  },
  {
   "cell_type": "code",
   "execution_count": null,
   "id": "244f3074",
   "metadata": {},
   "outputs": [],
   "source": [
    "journal_instances = []\n",
    "for prob in journal_problems:\n",
    "    journal_instances = journal_instances + [x for x in df.Problem.unique() if prob in x]\n",
    "journal_df = df[df['Problem']==journal_instances[0]]\n",
    "for instance_id in range(1, len(journal_instances)):\n",
    "    journal_df = pd.concat([journal_df, df[df['Problem']==journal_instances[instance_id]]])"
   ]
  },
  {
   "cell_type": "code",
   "execution_count": null,
   "id": "65c2d448",
   "metadata": {},
   "outputs": [],
   "source": [
    "max_x = int(journal_df['SolverTotalTime'].max())\n",
    "x = np.linspace(0, max_x, max_x*10)\n",
    "y = {'2': [], 'Sets_1': [], 'Sets_2': [], 'Sets_3': [], 'baseline': []}\n",
    "\n",
    "tab_2 = journal_df.query(\"Policy=='2' and SolverTimeOut==0\").groupby(\"Problem\")['SolverTotalTime'].min()+journal_df.query(\"Policy=='2' and SolverTimeOut==0\").groupby(\"Problem\")['SavileRowTotalTime'].min()\n",
    "baseline = journal_df.query(\"Policy=='baseline' and SolverTimeOut==0\").groupby(\"Problem\")['SolverTotalTime'].min()+journal_df.query(\"Policy=='baseline' and SolverTimeOut==0\").groupby(\"Problem\")['SavileRowTotalTime'].min()\n",
    "sets_1 = journal_df.query(\"Policy=='Sets' and Num_cons==1 and SolverTimeOut==0\").groupby(\"Problem\")['SolverTotalTime'].min()+journal_df.query(\"Policy=='Sets' and Num_cons==1 and SolverTimeOut==0\").groupby(\"Problem\")['SavileRowTotalTime'].min()\n",
    "sets_2 = journal_df.query(\"Policy=='Sets' and Num_cons==2 and SolverTimeOut==0\").groupby(\"Problem\")['SolverTotalTime'].min()+journal_df.query(\"Policy=='Sets' and Num_cons==2 and SolverTimeOut==0\").groupby(\"Problem\")['SavileRowTotalTime'].min()\n",
    "sets_3 = journal_df.query(\"Policy=='Sets' and Num_cons==3 and SolverTimeOut==0\").groupby(\"Problem\")['SolverTotalTime'].min()+journal_df.query(\"Policy=='Sets' and Num_cons==3 and SolverTimeOut==0\").groupby(\"Problem\")['SavileRowTotalTime'].min()\n",
    "\n",
    "for i in x:\n",
    "    y['2'].append((tab_2<i).sum())\n",
    "    y['baseline'].append((baseline<i).sum())\n",
    "    y['Sets_1'].append((sets_1<i).sum())\n",
    "    y['Sets_2'].append((sets_2<i).sum())\n",
    "    y['Sets_3'].append((sets_3<i).sum())\n",
    "plt.figure(figsize=(18, 6));\n",
    "plt.plot(x, y['2'])\n",
    "plt.plot(x, y['baseline'])\n",
    "plt.plot(x, y['Sets_1'])\n",
    "plt.plot(x, y['Sets_2'])\n",
    "plt.plot(x, y['Sets_3'])\n",
    "plt.legend(['Tab2', 'Baseline', 'Sets1', 'Sets2', 'Sets3'])\n",
    "plt.title(\"Number of instances solved over time, first set of problems\");\n",
    "plt.xlabel(\"Time (s)\")\n",
    "plt.ylabel(\"# instances\")\n",
    "#plt.xlim(left=25)\n",
    "#plt.ylim(bottom=120)\n",
    "plt.tight_layout();\n",
    "plt.show()"
   ]
  },
  {
   "cell_type": "code",
   "execution_count": null,
   "id": "3907de49",
   "metadata": {},
   "outputs": [],
   "source": [
    "max_x = int(journal_df['SolverTotalTime'].max())\n",
    "x = np.linspace(0, max_x, max_x*10)\n",
    "\n",
    "for num_cons in [1, 2, 3]:\n",
    "    y = {'0.0': [], '0.25': [], '0.5': [], '0.75': [], '1.0': []}\n",
    "\n",
    "    ov_00 = journal_df.query(\"Policy=='Sets' and SolverTimeOut==0 and thresh_overlap==0.0 and Num_cons==\"+str(num_cons)).groupby(\"Problem\")['SolverTotalTime'].min()+journal_df.query(\"Policy=='Sets' and SolverTimeOut==0 and thresh_overlap==0.0 and Num_cons==\"+str(num_cons)).groupby(\"Problem\")['SavileRowTotalTime'].min()\n",
    "    ov_25 = journal_df.query(\"Policy=='Sets' and SolverTimeOut==0 and thresh_overlap==0.25 and Num_cons==\"+str(num_cons)).groupby(\"Problem\")['SolverTotalTime'].min()+journal_df.query(\"Policy=='Sets' and SolverTimeOut==0 and thresh_overlap==0.25 and Num_cons==\"+str(num_cons)).groupby(\"Problem\")['SavileRowTotalTime'].min()\n",
    "    ov_50 = journal_df.query(\"Policy=='Sets' and SolverTimeOut==0 and thresh_overlap==0.50 and Num_cons==\"+str(num_cons)).groupby(\"Problem\")['SolverTotalTime'].min()+journal_df.query(\"Policy=='Sets' and SolverTimeOut==0 and thresh_overlap==0.50 and Num_cons==\"+str(num_cons)).groupby(\"Problem\")['SavileRowTotalTime'].min()\n",
    "    ov_75 = journal_df.query(\"Policy=='Sets' and SolverTimeOut==0 and thresh_overlap==0.75 and Num_cons==\"+str(num_cons)).groupby(\"Problem\")['SolverTotalTime'].min()+journal_df.query(\"Policy=='Sets' and SolverTimeOut==0 and thresh_overlap==0.75 and Num_cons==\"+str(num_cons)).groupby(\"Problem\")['SavileRowTotalTime'].min()\n",
    "    ov_10 = journal_df.query(\"Policy=='Sets' and SolverTimeOut==0 and thresh_overlap==1.0 and Num_cons==\"+str(num_cons)).groupby(\"Problem\")['SolverTotalTime'].min()+journal_df.query(\"Policy=='Sets' and SolverTimeOut==0 and thresh_overlap==1.0 and Num_cons==\"+str(num_cons)).groupby(\"Problem\")['SavileRowTotalTime'].min()\n",
    "\n",
    "    for i in x:\n",
    "        y['0.0'].append((ov_00<i).sum())\n",
    "        y['0.25'].append((ov_25<i).sum())\n",
    "        y['0.5'].append((ov_50<i).sum())\n",
    "        y['0.75'].append((ov_75<i).sum())\n",
    "        y['1.0'].append((ov_10<i).sum())\n",
    "    plt.figure(figsize=(18, 6));\n",
    "    plt.plot(x, y['0.0'])\n",
    "    plt.plot(x, y['0.25'])\n",
    "    plt.plot(x, y['0.5'])\n",
    "    plt.plot(x, y['0.75'])\n",
    "    plt.plot(x, y['1.0'])\n",
    "    plt.legend(['0.00', '0.25', '0.50', '0.75', '1.00'])\n",
    "    plt.title(\"Number of instances solved over time with num_cons=\"+str(num_cons)+\", first set of problems\");\n",
    "    plt.xlabel(\"Time (s)\")\n",
    "    plt.ylabel(\"# instances\")\n",
    "    plt.tight_layout();\n",
    "    #plt.xlim(left=25)\n",
    "    #plt.ylim(bottom=120)\n",
    "    plt.show()"
   ]
  },
  {
   "cell_type": "code",
   "execution_count": null,
   "id": "7080ceaf",
   "metadata": {},
   "outputs": [],
   "source": [
    "plt.figure(figsize=(8, 8));\n",
    "ax = plt.gca()\n",
    "ax.scatter(journal_df.query(\"Policy=='Sets'\").groupby(\"Problem\")['SolverTotalTime'].min()+journal_df.query(\"Policy=='Sets'\").groupby(\"Problem\")['SavileRowTotalTime'].min(), journal_df.query(\"Policy=='2'\").groupby(\"Problem\")['SolverTotalTime'].min()+journal_df.query(\"Policy=='2'\").groupby(\"Problem\")['SavileRowTotalTime'].min(), c=\"black\", marker=\"x\");\n",
    "ax.set_yscale('symlog')\n",
    "ax.set_xscale('symlog')\n",
    "plt.plot([0, 3600+5], [0, 3600+5], c=\"black\");\n",
    "plt.title(\"Solver time for all instances, first set of problems\");\n",
    "plt.xlabel(\"Constraints' sets (s)\");\n",
    "plt.ylabel(\"Tabulate 2 (s)\");\n",
    "plt.tight_layout();\n",
    "plt.xlim(left=0, right=3600);\n",
    "plt.ylim(bottom=0, top=3600);\n",
    "plt.show();"
   ]
  },
  {
   "cell_type": "code",
   "execution_count": null,
   "id": "c8daf5e1",
   "metadata": {},
   "outputs": [],
   "source": [
    "plt.figure(figsize=(8, 8));\n",
    "ax = plt.gca()\n",
    "ax.scatter(journal_df.query(\"Policy=='Sets'\").groupby(\"Problem\")['SolverTotalTime'].min()+\n",
    "           journal_df.query(\"Policy=='Sets'\").groupby(\"Problem\")['SavileRowTotalTime'].min(), \n",
    "           journal_df.query(\"Policy=='baseline'\").groupby(\"Problem\")['SolverTotalTime'].min()+\n",
    "           journal_df.query(\"Policy=='baseline'\").groupby(\"Problem\")['SavileRowTotalTime'].min(), c=\"black\", marker=\"x\");\n",
    "ax.set_yscale('symlog')\n",
    "ax.set_xscale('symlog')\n",
    "plt.plot([0, 3600+5], [0, 3600+5], c=\"black\");\n",
    "plt.title(\"Solver time for all instances, first set of problems\");\n",
    "plt.xlabel(\"Constraints' sets (s)\");\n",
    "plt.ylabel(\"Baseline (s)\");\n",
    "plt.tight_layout();\n",
    "plt.xlim(left=0, right=3600);\n",
    "plt.ylim(bottom=0, top=3600);\n",
    "plt.show();"
   ]
  },
  {
   "cell_type": "code",
   "execution_count": null,
   "id": "3e40800a",
   "metadata": {},
   "outputs": [],
   "source": [
    "plt.figure(figsize=(8, 8));\n",
    "ax = plt.gca()\n",
    "ax.scatter(journal_df.query(\"Policy=='2'\").groupby(\"Problem\")['SolverTotalTime'].min()+\n",
    "           journal_df.query(\"Policy=='2'\").groupby(\"Problem\")['SavileRowTotalTime'].min(), \n",
    "           journal_df.query(\"Policy=='baseline'\").groupby(\"Problem\")['SolverTotalTime'].min()+\n",
    "           journal_df.query(\"Policy=='baseline'\").groupby(\"Problem\")['SavileRowTotalTime'].min(), c=\"black\", marker=\"x\");\n",
    "ax.set_yscale('symlog')\n",
    "ax.set_xscale('symlog')\n",
    "plt.plot([0, 3600+5], [0, 3600+5], c=\"black\");\n",
    "plt.title(\"Solver time for all instances, first set of problems\");\n",
    "plt.xlabel(\"Tabulate 2 (s)\");\n",
    "plt.ylabel(\"Baseline (s)\");\n",
    "plt.tight_layout();\n",
    "plt.xlim(left=0, right=3600);\n",
    "plt.ylim(bottom=0, top=3600);\n",
    "plt.show();"
   ]
  },
  {
   "cell_type": "markdown",
   "id": "e611865b",
   "metadata": {},
   "source": [
    "## Second set of problems"
   ]
  },
  {
   "cell_type": "code",
   "execution_count": null,
   "id": "8ea18e4a",
   "metadata": {},
   "outputs": [],
   "source": [
    "other_instances = []\n",
    "for instance in df.Problem.unique():\n",
    "    flag = True\n",
    "    for prob in journal_problems:\n",
    "        if prob in instance:\n",
    "            flag = False\n",
    "    if flag:\n",
    "        other_instances.append(instance)\n",
    "other_df = df[df['Problem']==other_instances[0]]\n",
    "for instance_id in range(1, len(other_instances)):\n",
    "    other_df = pd.concat([other_df, df[df['Problem']==other_instances[instance_id]]])"
   ]
  },
  {
   "cell_type": "code",
   "execution_count": null,
   "id": "a1b5ad9f",
   "metadata": {},
   "outputs": [],
   "source": [
    "max_x = int(other_df['SolverTotalTime'].max())\n",
    "x = np.linspace(0, max_x, max_x*10)\n",
    "y = {'2': [], 'Sets_1': [], 'Sets_2': [], 'Sets_3': [], 'baseline': []}\n",
    "\n",
    "tab_2 = other_df.query(\"Policy=='2' and SolverTimeOut==0\").groupby(\"Problem\")['SolverTotalTime'].min()+other_df.query(\"Policy=='2' and SolverTimeOut==0\").groupby(\"Problem\")['SavileRowTotalTime'].min()\n",
    "baseline = other_df.query(\"Policy=='baseline' and SolverTimeOut==0\").groupby(\"Problem\")['SolverTotalTime'].min()+other_df.query(\"Policy=='baseline' and SolverTimeOut==0\").groupby(\"Problem\")['SavileRowTotalTime'].min()\n",
    "sets_1 = other_df.query(\"Policy=='Sets' and Num_cons==1 and SolverTimeOut==0\").groupby(\"Problem\")['SolverTotalTime'].min()+other_df.query(\"Policy=='Sets' and Num_cons==1 and SolverTimeOut==0\").groupby(\"Problem\")['SavileRowTotalTime'].min()\n",
    "sets_2 = other_df.query(\"Policy=='Sets' and Num_cons==2 and SolverTimeOut==0\").groupby(\"Problem\")['SolverTotalTime'].min()+other_df.query(\"Policy=='Sets' and Num_cons==2 and SolverTimeOut==0\").groupby(\"Problem\")['SavileRowTotalTime'].min()\n",
    "sets_3 = other_df.query(\"Policy=='Sets' and Num_cons==3 and SolverTimeOut==0\").groupby(\"Problem\")['SolverTotalTime'].min()+other_df.query(\"Policy=='Sets' and Num_cons==3 and SolverTimeOut==0\").groupby(\"Problem\")['SavileRowTotalTime'].min()\n",
    "\n",
    "for i in x:\n",
    "    y['2'].append((tab_2<i).sum())\n",
    "    y['baseline'].append((baseline<i).sum())\n",
    "    y['Sets_1'].append((sets_1<i).sum())\n",
    "    y['Sets_2'].append((sets_2<i).sum())\n",
    "    y['Sets_3'].append((sets_3<i).sum())\n",
    "plt.figure(figsize=(18, 6));\n",
    "plt.plot(x, y['2'])\n",
    "plt.plot(x, y['baseline'])\n",
    "plt.plot(x, y['Sets_1'])\n",
    "plt.plot(x, y['Sets_2'])\n",
    "plt.plot(x, y['Sets_3'])\n",
    "plt.legend(['Tab2', 'Baseline', 'Sets1', 'Sets2', 'Sets3'])\n",
    "plt.title(\"Number of instances solved over time, second set of problems\");\n",
    "plt.xlabel(\"Time (s)\")\n",
    "plt.ylabel(\"# instances\")\n",
    "#plt.xlim(left=25)\n",
    "#plt.ylim(bottom=120)\n",
    "plt.tight_layout();\n",
    "plt.show()"
   ]
  },
  {
   "cell_type": "code",
   "execution_count": null,
   "id": "fdda310c",
   "metadata": {},
   "outputs": [],
   "source": [
    "max_x = int(other_df['SolverTotalTime'].max())\n",
    "x = np.linspace(0, max_x, max_x*10)\n",
    "\n",
    "for num_cons in [1, 2, 3]:\n",
    "    y = {'0.0': [], '0.25': [], '0.5': [], '0.75': [], '1.0': []}\n",
    "\n",
    "    ov_00 = other_df.query(\"Policy=='Sets' and SolverTimeOut==0 and thresh_overlap==0.0 and Num_cons==\"+str(num_cons)).groupby(\"Problem\")['SolverTotalTime'].min()+other_df.query(\"Policy=='Sets' and SolverTimeOut==0 and thresh_overlap==0.0 and Num_cons==\"+str(num_cons)).groupby(\"Problem\")['SavileRowTotalTime'].min()\n",
    "    ov_25 = other_df.query(\"Policy=='Sets' and SolverTimeOut==0 and thresh_overlap==0.25 and Num_cons==\"+str(num_cons)).groupby(\"Problem\")['SolverTotalTime'].min()+other_df.query(\"Policy=='Sets' and SolverTimeOut==0 and thresh_overlap==0.25 and Num_cons==\"+str(num_cons)).groupby(\"Problem\")['SavileRowTotalTime'].min()\n",
    "    ov_50 = other_df.query(\"Policy=='Sets' and SolverTimeOut==0 and thresh_overlap==0.50 and Num_cons==\"+str(num_cons)).groupby(\"Problem\")['SolverTotalTime'].min()+other_df.query(\"Policy=='Sets' and SolverTimeOut==0 and thresh_overlap==0.50 and Num_cons==\"+str(num_cons)).groupby(\"Problem\")['SavileRowTotalTime'].min()\n",
    "    ov_75 = other_df.query(\"Policy=='Sets' and SolverTimeOut==0 and thresh_overlap==0.75 and Num_cons==\"+str(num_cons)).groupby(\"Problem\")['SolverTotalTime'].min()+other_df.query(\"Policy=='Sets' and SolverTimeOut==0 and thresh_overlap==0.75 and Num_cons==\"+str(num_cons)).groupby(\"Problem\")['SavileRowTotalTime'].min()\n",
    "    ov_10 = other_df.query(\"Policy=='Sets' and SolverTimeOut==0 and thresh_overlap==1.0 and Num_cons==\"+str(num_cons)).groupby(\"Problem\")['SolverTotalTime'].min()+other_df.query(\"Policy=='Sets' and SolverTimeOut==0 and thresh_overlap==1.0 and Num_cons==\"+str(num_cons)).groupby(\"Problem\")['SavileRowTotalTime'].min()\n",
    "\n",
    "    for i in x:\n",
    "        y['0.0'].append((ov_00<i).sum())\n",
    "        y['0.25'].append((ov_25<i).sum())\n",
    "        y['0.5'].append((ov_50<i).sum())\n",
    "        y['0.75'].append((ov_75<i).sum())\n",
    "        y['1.0'].append((ov_10<i).sum())\n",
    "    plt.figure(figsize=(18, 6));\n",
    "    plt.plot(x, y['0.0'])\n",
    "    plt.plot(x, y['0.25'])\n",
    "    plt.plot(x, y['0.5'])\n",
    "    plt.plot(x, y['0.75'])\n",
    "    plt.plot(x, y['1.0'])\n",
    "    plt.legend(['0.00', '0.25', '0.50', '0.75', '1.00'])\n",
    "    plt.title(\"Number of instances solved over time with num_cons=\"+str(num_cons)+\", second set of problems\");\n",
    "    plt.xlabel(\"Time (s)\")\n",
    "    plt.ylabel(\"# instances\")\n",
    "    plt.tight_layout();\n",
    "    #plt.xlim(left=25)\n",
    "    #plt.ylim(bottom=120)\n",
    "    plt.show()"
   ]
  },
  {
   "cell_type": "code",
   "execution_count": null,
   "id": "7a852ad8",
   "metadata": {},
   "outputs": [],
   "source": [
    "plt.figure(figsize=(8, 8));\n",
    "ax = plt.gca()\n",
    "ax.scatter(other_df.query(\"Policy=='Sets'\").groupby(\"Problem\")['SolverTotalTime'].min()+\n",
    "           other_df.query(\"Policy=='Sets'\").groupby(\"Problem\")['SavileRowTotalTime'].min(), \n",
    "           other_df.query(\"Policy=='2'\").groupby(\"Problem\")['SolverTotalTime'].min()+\n",
    "           other_df.query(\"Policy=='2'\").groupby(\"Problem\")['SavileRowTotalTime'].min(), c=\"black\", marker=\"x\");\n",
    "ax.set_yscale('symlog')\n",
    "ax.set_xscale('symlog')\n",
    "plt.plot([0, 3600+5], [0, 3600+5], c=\"black\");\n",
    "plt.title(\"Solver time for all instances, second set of problems\");\n",
    "plt.xlabel(\"Constraints' sets (s)\");\n",
    "plt.ylabel(\"Tabulate 2 (s)\");\n",
    "plt.tight_layout();\n",
    "plt.xlim(left=0, right=3600);\n",
    "plt.ylim(bottom=0, top=3600);\n",
    "plt.show();"
   ]
  },
  {
   "cell_type": "code",
   "execution_count": null,
   "id": "a665ff89",
   "metadata": {},
   "outputs": [],
   "source": [
    "plt.figure(figsize=(8, 8));\n",
    "ax = plt.gca()\n",
    "ax.scatter(other_df.query(\"Policy=='Sets'\").groupby(\"Problem\")['SolverTotalTime'].min()+\n",
    "           other_df.query(\"Policy=='Sets'\").groupby(\"Problem\")['SavileRowTotalTime'].min(), \n",
    "           other_df.query(\"Policy=='baseline'\").groupby(\"Problem\")['SolverTotalTime'].min()+\n",
    "           other_df.query(\"Policy=='baseline'\").groupby(\"Problem\")['SavileRowTotalTime'].min(), c=\"black\", marker=\"x\");\n",
    "ax.set_yscale('symlog')\n",
    "ax.set_xscale('symlog')\n",
    "plt.plot([0, 3600+5], [0, 3600+5], c=\"black\");\n",
    "plt.title(\"Solver time for all instances, second set of problems\");\n",
    "plt.xlabel(\"Constraints' sets (s)\");\n",
    "plt.ylabel(\"Baseline (s)\");\n",
    "plt.tight_layout();\n",
    "plt.xlim(left=0, right=3600);\n",
    "plt.ylim(bottom=0, top=3600);\n",
    "plt.show();"
   ]
  },
  {
   "cell_type": "code",
   "execution_count": null,
   "id": "c511ed0a",
   "metadata": {},
   "outputs": [],
   "source": [
    "plt.figure(figsize=(8, 8));\n",
    "ax = plt.gca()\n",
    "ax.scatter(other_df.query(\"Policy=='2'\").groupby(\"Problem\")['SolverTotalTime'].min()+\n",
    "           other_df.query(\"Policy=='2'\").groupby(\"Problem\")['SavileRowTotalTime'].min(), \n",
    "           other_df.query(\"Policy=='baseline'\").groupby(\"Problem\")['SolverTotalTime'].min()+\n",
    "           other_df.query(\"Policy=='baseline'\").groupby(\"Problem\")['SavileRowTotalTime'].min(), c=\"black\", marker=\"x\");\n",
    "ax.set_yscale('symlog')\n",
    "ax.set_xscale('symlog')\n",
    "plt.plot([0, 3600+5], [0, 3600+5], c=\"black\");\n",
    "plt.title(\"Solver time for all instances, second set of problems\");\n",
    "plt.xlabel(\"Tabulate 2 (s)\");\n",
    "plt.ylabel(\"Baseline (s)\");\n",
    "plt.tight_layout();\n",
    "plt.xlim(left=0, right=3600);\n",
    "plt.ylim(bottom=0, top=3600);\n",
    "plt.show();"
   ]
  }
 ],
 "metadata": {
  "kernelspec": {
   "display_name": "Python 3 (ipykernel)",
   "language": "python",
   "name": "python3"
  },
  "language_info": {
   "codemirror_mode": {
    "name": "ipython",
    "version": 3
   },
   "file_extension": ".py",
   "mimetype": "text/x-python",
   "name": "python",
   "nbconvert_exporter": "python",
   "pygments_lexer": "ipython3",
   "version": "3.8.10"
  }
 },
 "nbformat": 4,
 "nbformat_minor": 5
}
